{
 "cells": [
  {
   "cell_type": "code",
   "execution_count": 13,
   "id": "e5c42fe4-c05c-49dd-bcc8-efb78f815344",
   "metadata": {
    "tags": []
   },
   "outputs": [
    {
     "name": "stdin",
     "output_type": "stream",
     "text": [
      "Enter your first name:  Enoch\n",
      "Enter your last name:  Joy\n"
     ]
    },
    {
     "name": "stdout",
     "output_type": "stream",
     "text": [
      "Full name: Enoch Joy\n"
     ]
    }
   ],
   "source": [
    "def fullname(first_name, last_name):\n",
    "    \"\"\"Concatenate first name and last name with a space in between.\"\"\"\n",
    "    return first_name + \" \" + last_name\n",
    "\n",
    "# Taking input from the user\n",
    "first_name = input(\"Enter your first name: \")\n",
    "last_name = input(\"Enter your last name: \")\n",
    "\n",
    "# Getting the full name\n",
    "full_name = fullname(first_name, last_name)\n",
    "\n",
    "# Printing the full name\n",
    "print(\"Full name:\", full_name)\n"
   ]
  },
  {
   "cell_type": "code",
   "execution_count": 14,
   "id": "00ad08ff-94be-463e-b48b-f47c3bb75cec",
   "metadata": {
    "tags": []
   },
   "outputs": [
    {
     "name": "stdin",
     "output_type": "stream",
     "text": [
      "Enter a string:  I love Python\n"
     ]
    },
    {
     "name": "stdout",
     "output_type": "stream",
     "text": [
      "Output: Ilv yhn\n"
     ]
    }
   ],
   "source": [
    "def string_alternative(s):\n",
    "    \"\"\"Return every other character in the provided string.\"\"\"\n",
    "    return s[::2]\n",
    "\n",
    "def main():\n",
    "    # Taking input from the user\n",
    "    user_input = input(\"Enter a string: \")\n",
    "\n",
    "    # Call the string_alternative function with the user's input\n",
    "    output = string_alternative(user_input)\n",
    "\n",
    "    # Print the result\n",
    "    print(\"Output:\", output)\n",
    "\n",
    "# Call the main function\n",
    "if __name__ == \"__main__\":\n",
    "    main()\n"
   ]
  },
  {
   "cell_type": "code",
   "execution_count": 16,
   "id": "6a0494bb-7e05-40f8-a646-e7c8df9255f7",
   "metadata": {
    "tags": []
   },
   "outputs": [
    {
     "name": "stdin",
     "output_type": "stream",
     "text": [
      "Enter height in inches (or type 'done' to finish):  23\n",
      "Enter height in inches (or type 'done' to finish):  45\n",
      "Enter height in inches (or type 'done' to finish):  34\n",
      "Enter height in inches (or type 'done' to finish):  56\n",
      "Enter height in inches (or type 'done' to finish):  765\n",
      "Enter height in inches (or type 'done' to finish):  done\n"
     ]
    },
    {
     "name": "stdout",
     "output_type": "stream",
     "text": [
      "Heights in inches: [23.0, 45.0, 34.0, 56.0, 765.0]\n",
      "Heights in centimeters: [58.42, 114.3, 86.36, 142.24, 1943.1]\n"
     ]
    }
   ],
   "source": [
    "def inches_to_cm(inches):\n",
    "    \"\"\"Convert inches to centimeters.\"\"\"\n",
    "    return inches * 2.54\n",
    "\n",
    "def main():\n",
    "    heights_in_inches = []\n",
    "    heights_in_cm = []\n",
    "\n",
    "    while True:\n",
    "        try:\n",
    "            # Asking user to input height\n",
    "            height = input(\"Enter height in inches (or type 'done' to finish): \")\n",
    "            if height.lower() == 'done':\n",
    "                break\n",
    "\n",
    "            # Converting the height to float and adding to the list\n",
    "            height = float(height)\n",
    "            heights_in_inches.append(height)\n",
    "\n",
    "            # Converting to centimeters and adding to the cm list\n",
    "            converted_height = inches_to_cm(height)\n",
    "            heights_in_cm.append(round(converted_height, 2))\n",
    "        \n",
    "        except ValueError:\n",
    "            print(\"Please enter a valid number or 'done'.\")\n",
    "\n",
    "    # Displaying the results\n",
    "    print(\"Heights in inches:\", heights_in_inches)\n",
    "    print(\"Heights in centimeters:\", heights_in_cm)\n",
    "\n",
    "if __name__ == \"__main__\":\n",
    "    main()\n"
   ]
  },
  {
   "cell_type": "code",
   "execution_count": 17,
   "id": "a36df010-6234-45b0-8313-c5cff23ec4e0",
   "metadata": {
    "tags": []
   },
   "outputs": [
    {
     "name": "stdout",
     "output_type": "stream",
     "text": [
      "Enter heights in inches. Type 'done' when finished.\n"
     ]
    },
    {
     "name": "stdin",
     "output_type": "stream",
     "text": [
      "Enter height (inches) or 'done':  34\n",
      "Enter height (inches) or 'done':  23\n",
      "Enter height (inches) or 'done':  45\n",
      "Enter height (inches) or 'done':  65\n",
      "Enter height (inches) or 'done':  34\n",
      "Enter height (inches) or 'done':  done\n"
     ]
    },
    {
     "name": "stdout",
     "output_type": "stream",
     "text": [
      "Heights in inches: [34.0, 23.0, 45.0, 65.0, 34.0]\n",
      "Heights in centimeters: [86.36, 58.42, 114.3, 165.1, 86.36]\n"
     ]
    }
   ],
   "source": [
    "def inches_to_cm(inches):\n",
    "    \"\"\"Convert inches to centimeters.\"\"\"\n",
    "    return inches * 2.54\n",
    "\n",
    "def main():\n",
    "    heights_in_inches = []\n",
    "\n",
    "    print(\"Enter heights in inches. Type 'done' when finished.\")\n",
    "\n",
    "    # Loop to collect heights\n",
    "    while True:\n",
    "        height = input(\"Enter height (inches) or 'done': \")\n",
    "        if height.lower() == 'done':\n",
    "            break\n",
    "\n",
    "        try:\n",
    "            # Adding height to the list after converting to float\n",
    "            heights_in_inches.append(float(height))\n",
    "        except ValueError:\n",
    "            print(\"Please enter a valid number.\")\n",
    "\n",
    "    # Using list comprehension for conversion\n",
    "    heights_in_cm = [round(inches_to_cm(height), 2) for height in heights_in_inches]\n",
    "\n",
    "    # Displaying the results\n",
    "    print(\"Heights in inches:\", heights_in_inches)\n",
    "    print(\"Heights in centimeters:\", heights_in_cm)\n",
    "\n",
    "if __name__ == \"__main__\":\n",
    "    main()\n"
   ]
  },
  {
   "cell_type": "code",
   "execution_count": 15,
   "id": "efc51d15-a603-4bb7-a833-4d3dadafc987",
   "metadata": {
    "tags": []
   },
   "outputs": [
    {
     "name": "stdout",
     "output_type": "stream",
     "text": [
      "Python Course\n",
      "Deep Learning Course\n",
      "Word_Count:\n",
      "Python: 1\n",
      "Course: 2\n",
      "Deep: 1\n",
      "Learning: 1\n"
     ]
    }
   ],
   "source": [
    "def count_words_in_file(input_file, output_file):\n",
    "    word_counts = {}\n",
    "    lines = []\n",
    "\n",
    "    # Read from the file and count words\n",
    "    with open(input_file, 'r') as file:\n",
    "        for line in file:\n",
    "            # Clean and split line into words\n",
    "            words = line.strip().split()\n",
    "            lines.append(' '.join(words))\n",
    "            for word in words:\n",
    "                word_counts[word] = word_counts.get(word, 0) + 1\n",
    "\n",
    "    # Write to output file and print the output\n",
    "    with open(output_file, 'w') as file:\n",
    "        for line in lines:\n",
    "            file.write(line + '\\n')\n",
    "            print(line)\n",
    "        \n",
    "        file.write(\"Word_Count:\\n\")\n",
    "        print(\"Word_Count:\")\n",
    "        for word, count in word_counts.items():\n",
    "            output_line = f\"{word}: {count}\\n\"\n",
    "            file.write(output_line)\n",
    "            print(output_line.strip())\n",
    "\n",
    "# File paths\n",
    "input_file = 'input.txt'\n",
    "output_file = 'output.txt'\n",
    "\n",
    "# Execute the function\n",
    "count_words_in_file(input_file, output_file)\n"
   ]
  },
  {
   "cell_type": "code",
   "execution_count": null,
   "id": "d753db00-1b47-4f4e-86fb-6e6ff77f1015",
   "metadata": {},
   "outputs": [],
   "source": []
  }
 ],
 "metadata": {
  "kernelspec": {
   "display_name": "Python 3 (ipykernel)",
   "language": "python",
   "name": "python3"
  },
  "language_info": {
   "codemirror_mode": {
    "name": "ipython",
    "version": 3
   },
   "file_extension": ".py",
   "mimetype": "text/x-python",
   "name": "python",
   "nbconvert_exporter": "python",
   "pygments_lexer": "ipython3",
   "version": "3.11.4"
  }
 },
 "nbformat": 4,
 "nbformat_minor": 5
}
